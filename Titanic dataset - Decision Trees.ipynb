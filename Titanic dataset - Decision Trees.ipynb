{
 "cells": [
  {
   "cell_type": "markdown",
   "metadata": {},
   "source": [
    "# Titanic dataset - Decision Trees"
   ]
  },
  {
   "cell_type": "code",
   "execution_count": 1,
   "metadata": {},
   "outputs": [],
   "source": [
    "# Imports\n",
    "import os\n",
    "import pandas as pd\n",
    "from sklearn import tree\n",
    "#import sklearn.preprocessing as pre\n",
    "from sklearn.preprocessing import OneHotEncoder\n",
    "import sklearn.metrics\n",
    "import matplotlib.pyplot as plt\n",
    "import numpy as np"
   ]
  },
  {
   "cell_type": "code",
   "execution_count": 17,
   "metadata": {},
   "outputs": [],
   "source": [
    "# Read data\n",
    "data_path = \"C:\\\\data\\\\kaggle\\\\titanic\"\n",
    "df_test = pd.read_csv(data_path+'\\\\test.csv', engine='python')\n",
    "df_original = pd.read_csv(data_path+'\\\\train.csv', engine='python')\n",
    "df_output_example = pd.read_csv(data_path+'\\\\gender_submission.csv', engine='python')"
   ]
  },
  {
   "cell_type": "code",
   "execution_count": 4,
   "metadata": {},
   "outputs": [
    {
     "data": {
      "text/html": [
       "<div>\n",
       "<style scoped>\n",
       "    .dataframe tbody tr th:only-of-type {\n",
       "        vertical-align: middle;\n",
       "    }\n",
       "\n",
       "    .dataframe tbody tr th {\n",
       "        vertical-align: top;\n",
       "    }\n",
       "\n",
       "    .dataframe thead th {\n",
       "        text-align: right;\n",
       "    }\n",
       "</style>\n",
       "<table border=\"1\" class=\"dataframe\">\n",
       "  <thead>\n",
       "    <tr style=\"text-align: right;\">\n",
       "      <th></th>\n",
       "      <th>PassengerId</th>\n",
       "      <th>Survived</th>\n",
       "      <th>Pclass</th>\n",
       "      <th>Name</th>\n",
       "      <th>Sex</th>\n",
       "      <th>Age</th>\n",
       "      <th>SibSp</th>\n",
       "      <th>Parch</th>\n",
       "      <th>Ticket</th>\n",
       "      <th>Fare</th>\n",
       "      <th>Cabin</th>\n",
       "      <th>Embarked</th>\n",
       "    </tr>\n",
       "  </thead>\n",
       "  <tbody>\n",
       "    <tr>\n",
       "      <th>0</th>\n",
       "      <td>1</td>\n",
       "      <td>0</td>\n",
       "      <td>3</td>\n",
       "      <td>Braund, Mr. Owen Harris</td>\n",
       "      <td>male</td>\n",
       "      <td>22.0</td>\n",
       "      <td>1</td>\n",
       "      <td>0</td>\n",
       "      <td>A/5 21171</td>\n",
       "      <td>7.2500</td>\n",
       "      <td>NaN</td>\n",
       "      <td>S</td>\n",
       "    </tr>\n",
       "    <tr>\n",
       "      <th>1</th>\n",
       "      <td>2</td>\n",
       "      <td>1</td>\n",
       "      <td>1</td>\n",
       "      <td>Cumings, Mrs. John Bradley (Florence Briggs Th...</td>\n",
       "      <td>female</td>\n",
       "      <td>38.0</td>\n",
       "      <td>1</td>\n",
       "      <td>0</td>\n",
       "      <td>PC 17599</td>\n",
       "      <td>71.2833</td>\n",
       "      <td>C85</td>\n",
       "      <td>C</td>\n",
       "    </tr>\n",
       "    <tr>\n",
       "      <th>2</th>\n",
       "      <td>3</td>\n",
       "      <td>1</td>\n",
       "      <td>3</td>\n",
       "      <td>Heikkinen, Miss. Laina</td>\n",
       "      <td>female</td>\n",
       "      <td>26.0</td>\n",
       "      <td>0</td>\n",
       "      <td>0</td>\n",
       "      <td>STON/O2. 3101282</td>\n",
       "      <td>7.9250</td>\n",
       "      <td>NaN</td>\n",
       "      <td>S</td>\n",
       "    </tr>\n",
       "    <tr>\n",
       "      <th>3</th>\n",
       "      <td>4</td>\n",
       "      <td>1</td>\n",
       "      <td>1</td>\n",
       "      <td>Futrelle, Mrs. Jacques Heath (Lily May Peel)</td>\n",
       "      <td>female</td>\n",
       "      <td>35.0</td>\n",
       "      <td>1</td>\n",
       "      <td>0</td>\n",
       "      <td>113803</td>\n",
       "      <td>53.1000</td>\n",
       "      <td>C123</td>\n",
       "      <td>S</td>\n",
       "    </tr>\n",
       "    <tr>\n",
       "      <th>4</th>\n",
       "      <td>5</td>\n",
       "      <td>0</td>\n",
       "      <td>3</td>\n",
       "      <td>Allen, Mr. William Henry</td>\n",
       "      <td>male</td>\n",
       "      <td>35.0</td>\n",
       "      <td>0</td>\n",
       "      <td>0</td>\n",
       "      <td>373450</td>\n",
       "      <td>8.0500</td>\n",
       "      <td>NaN</td>\n",
       "      <td>S</td>\n",
       "    </tr>\n",
       "  </tbody>\n",
       "</table>\n",
       "</div>"
      ],
      "text/plain": [
       "   PassengerId  Survived  Pclass  \\\n",
       "0            1         0       3   \n",
       "1            2         1       1   \n",
       "2            3         1       3   \n",
       "3            4         1       1   \n",
       "4            5         0       3   \n",
       "\n",
       "                                                Name     Sex   Age  SibSp  \\\n",
       "0                            Braund, Mr. Owen Harris    male  22.0      1   \n",
       "1  Cumings, Mrs. John Bradley (Florence Briggs Th...  female  38.0      1   \n",
       "2                             Heikkinen, Miss. Laina  female  26.0      0   \n",
       "3       Futrelle, Mrs. Jacques Heath (Lily May Peel)  female  35.0      1   \n",
       "4                           Allen, Mr. William Henry    male  35.0      0   \n",
       "\n",
       "   Parch            Ticket     Fare Cabin Embarked  \n",
       "0      0         A/5 21171   7.2500   NaN        S  \n",
       "1      0          PC 17599  71.2833   C85        C  \n",
       "2      0  STON/O2. 3101282   7.9250   NaN        S  \n",
       "3      0            113803  53.1000  C123        S  \n",
       "4      0            373450   8.0500   NaN        S  "
      ]
     },
     "execution_count": 4,
     "metadata": {},
     "output_type": "execute_result"
    }
   ],
   "source": [
    "df_original.head()"
   ]
  },
  {
   "cell_type": "markdown",
   "metadata": {},
   "source": [
    "To do:\n",
    "\n",
    "- One-hot encoding\n",
    "\n",
    "- Estimate ages?\n",
    "\n",
    "- Make title (Mr, Miss, ...) a feature?\n",
    "\n",
    "- Separate sib/sp and par/ch?\n",
    "\n",
    "- Separate surnames?\n",
    "\n",
    "- Embark bi order of embark (1, 2, 3) and not onehotencoding\n",
    "\n",
    "- add more metrics https://en.wikipedia.org/wiki/Precision_and_recall\n"
   ]
  },
  {
   "cell_type": "code",
   "execution_count": 11,
   "metadata": {},
   "outputs": [],
   "source": [
    "def get_metrics(cm, to_print=False):\n",
    "    TP = cm[0][0]\n",
    "    TN = cm[1][1]\n",
    "    FP = cm[1][0]\n",
    "    FN = cm[0][1]\n",
    "    accuracy = ((TP+TN)/(TP+FP+FN+TN))\n",
    "    precision = (TP/(TP+FP))\n",
    "    recall = (TP/(TP+FN))\n",
    "    f1score = (2/((1/recall)+(1/precision)))\n",
    "    \n",
    "    if to_print:    \n",
    "        print('Accuracy:', accuracy, '\\nPrecision:', precision, '\\nRecall:', recall, '\\nF1 score:', f1score)\n",
    "        \n",
    "    return accuracy, precision, recall, f1score"
   ]
  },
  {
   "cell_type": "markdown",
   "metadata": {},
   "source": [
    "## First attempt (out of the box)\n",
    "Dropping original indexes\n",
    "\n",
    "Results: [120,  37],\n",
    "              [ 49,  61]"
   ]
  },
  {
   "cell_type": "code",
   "execution_count": 21,
   "metadata": {},
   "outputs": [],
   "source": [
    "df = df_original\n",
    "\n",
    "# Southampton Cherbourg Queenstown to 0, 1, 2\n",
    "df.Embarked = [0 if city == 'S' else 1 if city == 'C' else 2 for city in df_original.Embarked]\n",
    "# Embarked to standalone columns TODO\n",
    "\n",
    "# Sex to bool\n",
    "df.Sex = [0 if sex == 'Male' else 1 for sex in df.Sex]\n",
    "\n",
    "# Cabin to #cabin names, number and type\n",
    "\n",
    "# TEMP names to titles to Mr, Miss, Mrs, other. Later see other titles CURRENT\n",
    "titles = [name.split(', ')[1].split('.')[0] for name in df.Name]\n",
    "unique_titles = list(set(titles))\n",
    "for title in unique_titles:\n",
    "    df.loc[:,title] = titles==title\n",
    "\n",
    "# Temp drop columns\n",
    "df = df.drop(columns=['Ticket', 'Cabin', 'Name'])\n",
    "\n",
    "# TEMP Fill NaN with 0\n",
    "df = df.fillna(0)\n",
    "\n",
    "df = df.set_index('PassengerId', drop=True)"
   ]
  },
  {
   "cell_type": "code",
   "execution_count": 24,
   "metadata": {},
   "outputs": [],
   "source": [
    "# Randomly break into 70% train and 30% cross-validation\n",
    "\n",
    "# Training set\n",
    "train = df.sample(frac=0.7, axis=0) #.reset_index(drop=True)\n",
    "train_x = train.drop(columns='Survived').copy()\n",
    "train_y = train.loc[:][['Survived']]\n",
    "\n",
    "# Cross-validation set\n",
    "cross = df.drop(train.index)\n",
    "cross_x = cross.drop(columns='Survived').copy()\n",
    "cross_y = cross.loc[:][['Survived']]"
   ]
  },
  {
   "cell_type": "code",
   "execution_count": 25,
   "metadata": {},
   "outputs": [],
   "source": [
    "# Fit classification model\n",
    "clf = tree.DecisionTreeClassifier()\n",
    "clf = clf.fit(train_x, train_y)"
   ]
  },
  {
   "cell_type": "code",
   "execution_count": 26,
   "metadata": {},
   "outputs": [],
   "source": [
    "# Predict\n",
    "pred_y = clf.predict_proba(cross_x)"
   ]
  },
  {
   "cell_type": "code",
   "execution_count": 27,
   "metadata": {},
   "outputs": [
    {
     "name": "stdout",
     "output_type": "stream",
     "text": [
      "[[132  36]\n",
      " [ 46  53]]\n"
     ]
    },
    {
     "data": {
      "image/png": "[encoded data removed]",
      "text/plain": [
       "<matplotlib.figure.Figure at 0x18aff1ad630>"
      ]
     },
     "metadata": {},
     "output_type": "display_data"
    },
    {
     "name": "stdout",
     "output_type": "stream",
     "text": [
      "Accuracy: 0.6928838951310862 \n",
      "Precision: 0.7415730337078652 \n",
      "Recall: 0.7857142857142857 \n",
      "F1 score: 0.7630057803468209\n"
     ]
    },
    {
     "data": {
      "text/plain": [
       "(0.6928838951310862,\n",
       " 0.7415730337078652,\n",
       " 0.7857142857142857,\n",
       " 0.7630057803468209)"
      ]
     },
     "execution_count": 27,
     "metadata": {},
     "output_type": "execute_result"
    }
   ],
   "source": [
    "# Confusion Matrix\n",
    "pred_y2 = np.argmax(pred_y, axis=1)\n",
    "\n",
    "labels = ['Did not survive', 'Survived']\n",
    "cm = sklearn.metrics.confusion_matrix(cross_y, pred_y2)\n",
    "\n",
    "# Plotting\n",
    "print(cm)\n",
    "fig = plt.figure()\n",
    "ax = fig.add_subplot(111)\n",
    "cax = ax.matshow(cm)\n",
    "plt.title('Confusion matrix of the classifier')\n",
    "fig.colorbar(cax)\n",
    "ax.set_xticklabels([''] + labels)\n",
    "ax.set_yticklabels([''] + labels)\n",
    "plt.xlabel('Predicted')\n",
    "plt.ylabel('True')\n",
    "plt.show()\n",
    "\n",
    "get_metrics(cm, True)"
   ]
  },
  {
   "cell_type": "markdown",
   "metadata": {},
   "source": [
    "## Past results:"
   ]
  },
  {
   "cell_type": "code",
   "execution_count": null,
   "metadata": {},
   "outputs": [],
   "source": [
    "# Past results\n",
    "cm_22oct1 = [[120, 37],[ 49, 61]]\n",
    "cm_22oct2 = [[131, 34],[49, 53]]\n",
    "\n",
    "cms   = [cm_22oct1,  cm_22oct2]\n",
    "dates = ['22 Oct 1', '22 Oct 2']\n",
    "\n",
    "accuracy = [] # ratio of correctly predicted observation to the total observations\n",
    "precision = [] # ratio of correctly predicted positive observations to the total predicted positive observations\n",
    "recall = [] # ratio of correctly predicted positive observations to the all observations in actual class - yes\n",
    "f1score = [] # weighted average of Precision and Recall\n",
    "\n",
    "for cm in cms:\n",
    "    TP = cm[0][0]\n",
    "    TN = cm[1][1]\n",
    "    FP = cm[1][0]\n",
    "    FN = cm[0][1]\n",
    "    accuracy.append((TP+TN)/(TP+FP+FN+TN))\n",
    "    precision.append(TP/(TP+FP))\n",
    "    recall.append(TP/(TP+FN))\n",
    "    f1score.append(2/((1/recall[-1])+(1/precision[-1])))\n",
    "    \n",
    "print('Accuracy:', accuracy, '\\nPrecision:', precision, '\\nRecall:', recall, '\\nF1 score:', f1score)\n",
    "\n",
    "# Plot curves TODO"
   ]
  },
  {
   "cell_type": "code",
   "execution_count": null,
   "metadata": {},
   "outputs": [],
   "source": []
  }
 ],
 "metadata": {
  "kernelspec": {
   "display_name": "Python 3",
   "language": "python",
   "name": "python3"
  },
  "language_info": {
   "codemirror_mode": {
    "name": "ipython",
    "version": 3
   },
   "file_extension": ".py",
   "mimetype": "text/x-python",
   "name": "python",
   "nbconvert_exporter": "python",
   "pygments_lexer": "ipython3",
   "version": "3.6.4"
  }
 },
 "nbformat": 4,
 "nbformat_minor": 2
}
